{
 "cells": [
  {
   "cell_type": "markdown",
   "metadata": {},
   "source": [
    "## Check Ollama\n",
    "## load module ollama/0.5.5\n",
    "## ollama-start\n",
    "## Check the server -> copy paste to ollama_host"
   ]
  },
  {
   "cell_type": "code",
   "execution_count": 1,
   "metadata": {},
   "outputs": [
    {
     "name": "stdout",
     "output_type": "stream",
     "text": [
      "Server connected\n",
      "Ollama is running\n"
     ]
    }
   ],
   "source": [
    "import requests\n",
    "import ollama\n",
    "\n",
    "# Server\n",
    "ollama_host = \"http://sg041:11434\"\n",
    "client = ollama.Client(host=ollama_host)\n",
    "prompt = \"Yesterday, I ate 3 apples, today I ate 2 apples. How many apples did I eat. Let's think step by step.\"\n",
    "\n",
    "try:\n",
    "    response = requests.get(ollama_host)\n",
    "    print(\"Server connected\")\n",
    "    \n",
    "    print(response.text)\n",
    "except requests.ConnectionError:\n",
    "    print(\"Not connected\")"
   ]
  },
  {
   "cell_type": "markdown",
   "metadata": {},
   "source": [
    "## Load llama3.2 from ollama"
   ]
  },
  {
   "cell_type": "code",
   "execution_count": 2,
   "metadata": {},
   "outputs": [
    {
     "name": "stdout",
     "output_type": "stream",
     "text": [
      "To find the total number of apples you ate, let's break it down step by step:\n",
      "\n",
      "1. Yesterday, you ate 3 apples.\n",
      "2. Today, you ate 2 apples.\n",
      "\n",
      "Now, let's add the number of apples from both days: \n",
      "\n",
      "3 (yesterday) + 2 (today) = 5\n",
      "\n",
      "So, in total, you ate 5 apples.\n"
     ]
    }
   ],
   "source": [
    "response = client.chat(\n",
    "    model='llama3.2',\n",
    "    messages=[{\n",
    "        'role': 'user',\n",
    "        'content': prompt,\n",
    "    }]\n",
    ")\n",
    "\n",
    "print(response['message']['content'])"
   ]
  },
  {
   "cell_type": "code",
   "execution_count": null,
   "metadata": {},
   "outputs": [],
   "source": []
  }
 ],
 "metadata": {
  "kernelspec": {
   "display_name": "Python 3 (ipykernel)",
   "language": "python",
   "name": "python3"
  },
  "language_info": {
   "codemirror_mode": {
    "name": "ipython",
    "version": 3
   },
   "file_extension": ".py",
   "mimetype": "text/x-python",
   "name": "python",
   "nbconvert_exporter": "python",
   "pygments_lexer": "ipython3",
   "version": "3.11.6"
  }
 },
 "nbformat": 4,
 "nbformat_minor": 4
}
